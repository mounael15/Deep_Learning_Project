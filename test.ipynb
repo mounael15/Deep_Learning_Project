{
 "cells": [
  {
   "cell_type": "code",
   "execution_count": 29,
   "metadata": {
    "ExecuteTime": {
     "end_time": "2023-10-25T08:12:06.298310400Z",
     "start_time": "2023-10-25T08:12:06.282690100Z"
    }
   },
   "outputs": [],
   "source": [
    "import numpy as np\n",
    "import librosa \n",
    "import librosa.display\n",
    "import matplotlib.pyplot as plt"
   ]
  },
  {
   "cell_type": "code",
   "execution_count": 30,
   "metadata": {
    "ExecuteTime": {
     "end_time": "2023-10-25T08:12:07.738219800Z",
     "start_time": "2023-10-25T08:12:07.391294200Z"
    }
   },
   "outputs": [],
   "source": [
    "y, sr = librosa.load(\".\\\\babble_16k.wav\")"
   ]
  },
  {
   "cell_type": "code",
   "execution_count": 31,
   "metadata": {
    "ExecuteTime": {
     "end_time": "2023-10-25T08:12:12.559972700Z",
     "start_time": "2023-10-25T08:12:09.055431900Z"
    }
   },
   "outputs": [],
   "source": [
    "tempo, beat_frames = librosa.beat.beat_track(y=y, sr=sr)\n",
    "beat_times = librosa.frames_to_time(beat_frames, sr=sr)\n"
   ]
  },
  {
   "cell_type": "code",
   "execution_count": 32,
   "metadata": {
    "ExecuteTime": {
     "end_time": "2023-10-25T08:12:16.054867Z",
     "start_time": "2023-10-25T08:12:15.569219700Z"
    }
   },
   "outputs": [
    {
     "ename": "AttributeError",
     "evalue": "'_process_plot_var_args' object has no attribute 'prop_cycler'",
     "output_type": "error",
     "traceback": [
      "\u001B[1;31m---------------------------------------------------------------------------\u001B[0m",
      "\u001B[1;31mAttributeError\u001B[0m                            Traceback (most recent call last)",
      "Cell \u001B[1;32mIn[32], line 2\u001B[0m\n\u001B[0;32m      1\u001B[0m plt\u001B[38;5;241m.\u001B[39mfigure(figsize\u001B[38;5;241m=\u001B[39m(\u001B[38;5;241m15\u001B[39m,\u001B[38;5;241m5\u001B[39m))\n\u001B[1;32m----> 2\u001B[0m \u001B[43mlibrosa\u001B[49m\u001B[38;5;241;43m.\u001B[39;49m\u001B[43mdisplay\u001B[49m\u001B[38;5;241;43m.\u001B[39;49m\u001B[43mwaveshow\u001B[49m\u001B[43m(\u001B[49m\u001B[43my\u001B[49m\u001B[43m,\u001B[49m\u001B[43m \u001B[49m\u001B[43msr\u001B[49m\u001B[38;5;241;43m=\u001B[39;49m\u001B[43msr\u001B[49m\u001B[43m)\u001B[49m \n\u001B[0;32m      3\u001B[0m plt\u001B[38;5;241m.\u001B[39mxlabel(\u001B[38;5;124m'\u001B[39m\u001B[38;5;124mtime (s)\u001B[39m\u001B[38;5;124m'\u001B[39m) \n\u001B[0;32m      4\u001B[0m plt\u001B[38;5;241m.\u001B[39mylabel(\u001B[38;5;124m'\u001B[39m\u001B[38;5;124mamplitude\u001B[39m\u001B[38;5;124m'\u001B[39m)\n",
      "File \u001B[1;32m~\\Deep_Learning_Project\\venv\\lib\\site-packages\\librosa\\display.py:2042\u001B[0m, in \u001B[0;36mwaveshow\u001B[1;34m(y, sr, max_points, axis, offset, marker, where, label, transpose, ax, x_axis, **kwargs)\u001B[0m\n\u001B[0;32m   2032\u001B[0m axis \u001B[38;5;241m=\u001B[39m rename_kw(\n\u001B[0;32m   2033\u001B[0m     old_name\u001B[38;5;241m=\u001B[39m\u001B[38;5;124m\"\u001B[39m\u001B[38;5;124mx_axis\u001B[39m\u001B[38;5;124m\"\u001B[39m,\n\u001B[0;32m   2034\u001B[0m     old_value\u001B[38;5;241m=\u001B[39mx_axis,\n\u001B[1;32m   (...)\u001B[0m\n\u001B[0;32m   2038\u001B[0m     version_removed\u001B[38;5;241m=\u001B[39m\u001B[38;5;124m\"\u001B[39m\u001B[38;5;124m1.0\u001B[39m\u001B[38;5;124m\"\u001B[39m,\n\u001B[0;32m   2039\u001B[0m )\n\u001B[0;32m   2041\u001B[0m \u001B[38;5;28;01mif\u001B[39;00m \u001B[38;5;124m\"\u001B[39m\u001B[38;5;124mcolor\u001B[39m\u001B[38;5;124m\"\u001B[39m \u001B[38;5;129;01mnot\u001B[39;00m \u001B[38;5;129;01min\u001B[39;00m kwargs:\n\u001B[1;32m-> 2042\u001B[0m     kwargs\u001B[38;5;241m.\u001B[39msetdefault(\u001B[38;5;124m\"\u001B[39m\u001B[38;5;124mcolor\u001B[39m\u001B[38;5;124m\"\u001B[39m, \u001B[38;5;28mnext\u001B[39m(\u001B[43maxes\u001B[49m\u001B[38;5;241;43m.\u001B[39;49m\u001B[43m_get_lines\u001B[49m\u001B[38;5;241;43m.\u001B[39;49m\u001B[43mprop_cycler\u001B[49m)[\u001B[38;5;124m\"\u001B[39m\u001B[38;5;124mcolor\u001B[39m\u001B[38;5;124m\"\u001B[39m])\n\u001B[0;32m   2044\u001B[0m \u001B[38;5;66;03m# Reduce by envelope calculation\u001B[39;00m\n\u001B[0;32m   2045\u001B[0m \u001B[38;5;66;03m# this choice of hop ensures that the envelope has at most max_points values\u001B[39;00m\n\u001B[0;32m   2046\u001B[0m hop_length \u001B[38;5;241m=\u001B[39m \u001B[38;5;28mmax\u001B[39m(\u001B[38;5;241m1\u001B[39m, y\u001B[38;5;241m.\u001B[39mshape[\u001B[38;5;241m-\u001B[39m\u001B[38;5;241m1\u001B[39m] \u001B[38;5;241m/\u001B[39m\u001B[38;5;241m/\u001B[39m max_points)\n",
      "\u001B[1;31mAttributeError\u001B[0m: '_process_plot_var_args' object has no attribute 'prop_cycler'"
     ]
    },
    {
     "data": {
      "text/plain": "<Figure size 1500x500 with 1 Axes>",
      "image/png": "[encoded data removed]"
     },
     "metadata": {},
     "output_type": "display_data"
    }
   ],
   "source": [
    "plt.figure(figsize=(15,5))\n",
    "librosa.display.waveshow(y, sr=sr) \n",
    "plt.xlabel('time (s)') \n",
    "plt.ylabel('amplitude')\n",
    "plt.title('noise signal')\n",
    "plt.show()"
   ]
  },
  {
   "cell_type": "code",
   "execution_count": 56,
   "outputs": [
    {
     "name": "stdout",
     "output_type": "stream",
     "text": [
      "Durée moyenne des audios: 11.28 secondes\n"
     ]
    }
   ],
   "source": [
    "import os\n",
    "data_directory = \".\\\\intro-disclaimers\"\n",
    "durations = []\n",
    "\n",
    "def process_directory(directory):\n",
    "    for item in os.listdir(directory):\n",
    "        item_path = os.path.join(directory, item)\n",
    "\n",
    "        if os.path.isdir(item_path):\n",
    "            process_directory(item_path)\n",
    "        \n",
    "        elif item.endswith('.flac'):\n",
    "            cl, sr_cl = librosa.load(item_path, sr=None)\n",
    "            duration = librosa.get_duration(y=cl, sr=sr_cl)\n",
    "            durations.append(duration)\n",
    "\n",
    "\n",
    "process_directory(data_directory)\n",
    "average_duration = sum(durations) / len(durations)\n",
    "print(f\"Durée moyenne des audios: {average_duration:.2f} secondes\")\n"
   ],
   "metadata": {
    "collapsed": false,
    "ExecuteTime": {
     "end_time": "2023-10-25T08:54:07.856276400Z",
     "start_time": "2023-10-25T08:53:35.449571400Z"
    }
   }
  },
  {
   "cell_type": "code",
   "execution_count": 58,
   "outputs": [],
   "source": [
    "\n",
    "import soundfile as sf\n",
    "noise_directory =\".\\\\noise\"\n",
    "segment_length = int(sr * 11.28)  \n",
    "\n",
    "for start in range(0, len(y), segment_length):\n",
    "    end = start + segment_length\n",
    "    segment = y[start:end]\n",
    "    output_path = os.path.join(noise_directory, f'segment_{start//segment_length}.wav')\n",
    "\n",
    "    sf.write(output_path, segment, sr)\n"
   ],
   "metadata": {
    "collapsed": false,
    "ExecuteTime": {
     "end_time": "2023-10-25T08:57:42.722413500Z",
     "start_time": "2023-10-25T08:57:41.989162300Z"
    }
   }
  },
  {
   "cell_type": "code",
   "execution_count": 72,
   "outputs": [
    {
     "name": "stdout",
     "output_type": "stream",
     "text": [
      "Sample rate mismatch: Noise segment has 22050 Hz, but voice data has 16000 Hz.\n"
     ]
    },
    {
     "ename": "ValueError",
     "evalue": "operands could not be broadcast together with shapes (189440,) (180480,) ",
     "output_type": "error",
     "traceback": [
      "\u001B[1;31m---------------------------------------------------------------------------\u001B[0m",
      "\u001B[1;31mValueError\u001B[0m                                Traceback (most recent call last)",
      "Cell \u001B[1;32mIn[72], line 37\u001B[0m\n\u001B[0;32m     33\u001B[0m    noise \u001B[38;5;241m=\u001B[39m librosa\u001B[38;5;241m.\u001B[39mresample(noise, orig_sr\u001B[38;5;241m=\u001B[39msr_noise, target_sr\u001B[38;5;241m=\u001B[39msr_voice)\n\u001B[0;32m     35\u001B[0m    sr_noise \u001B[38;5;241m=\u001B[39m sr_voice\n\u001B[1;32m---> 37\u001B[0m noisy_voice \u001B[38;5;241m=\u001B[39m \u001B[43mvoice\u001B[49m\u001B[43m \u001B[49m\u001B[38;5;241;43m+\u001B[39;49m\u001B[43m \u001B[49m\u001B[43mnoise\u001B[49m\u001B[43m[\u001B[49m\u001B[43m:\u001B[49m\u001B[38;5;28;43mlen\u001B[39;49m\u001B[43m(\u001B[49m\u001B[43mvoice\u001B[49m\u001B[43m)\u001B[49m\u001B[43m]\u001B[49m\n\u001B[0;32m     40\u001B[0m output_path \u001B[38;5;241m=\u001B[39m os\u001B[38;5;241m.\u001B[39mpath\u001B[38;5;241m.\u001B[39mjoin(noise_directory, \u001B[38;5;124mf\u001B[39m\u001B[38;5;124m'\u001B[39m\u001B[38;5;124mnoisy_audio.flac\u001B[39m\u001B[38;5;124m'\u001B[39m)\n\u001B[0;32m     42\u001B[0m sf\u001B[38;5;241m.\u001B[39mwrite(output_path, noisy_voice, sr_voice)\n",
      "\u001B[1;31mValueError\u001B[0m: operands could not be broadcast together with shapes (189440,) (180480,) "
     ]
    }
   ],
   "source": [
    "\n",
    "\n",
    "from random import choice as rand_choice\n",
    "\n",
    "noise_audio_directory =\".\\\\noisy_audio\"\n",
    "def process_directory(directory):\n",
    "    audio_data = []  \n",
    "\n",
    "    for item in os.listdir(directory):\n",
    "        item_path = os.path.join(directory, item)\n",
    "\n",
    "        if os.path.isdir(item_path):\n",
    "            audio_data.extend(process_directory(item_path))\n",
    "        elif item.endswith('.flac'):\n",
    "           voice, sr_voice = librosa.load(item_path, sr=None)  \n",
    "           audio_data.append((voice, sr_voice))\n",
    "\n",
    "    return audio_data\n",
    "\n",
    "audio_data = process_directory(data_directory)\n",
    "\n",
    "\n",
    "for voice, sr_voice in audio_data:\n",
    "    if len(voice) <= segment_length:\n",
    "        noise_files = [f for f in os.listdir(noise_directory) if f.endswith('.wav')]\n",
    "        random_noise_file = rand_choice(noise_files) \n",
    "        noise_segment_path = os.path.join(noise_directory, random_noise_file)\n",
    "        noise, sr_noise = librosa.load(noise_segment_path, sr=None)\n",
    "\n",
    "        if sr_noise != sr_voice:\n",
    "           print(f\"Sample rate mismatch: Noise segment has {sr_noise} Hz, but voice data has {sr_voice} Hz.\")\n",
    "           \n",
    "           \n",
    " \n",
    "           noise = librosa.resample(noise, orig_sr=sr_noise, target_sr=sr_voice)\n",
    "    \n",
    "           sr_noise = sr_voice\n",
    "\n",
    "        noisy_voice = voice + noise[:len(voice)]\n",
    "\n",
    "        \n",
    "        output_path = os.path.join(noise_directory, f'noisy_audio.flac')\n",
    "\n",
    "        sf.write(output_path, noisy_voice, sr_voice)\n"
   ],
   "metadata": {
    "collapsed": false,
    "ExecuteTime": {
     "end_time": "2023-10-25T09:28:31.747238800Z",
     "start_time": "2023-10-25T09:27:53.471131200Z"
    }
   }
  },
  {
   "cell_type": "code",
   "execution_count": null,
   "outputs": [],
   "source": [],
   "metadata": {
    "collapsed": false
   }
  }
 ],
 "metadata": {
  "kernelspec": {
   "display_name": "Python 3",
   "language": "python",
   "name": "python3"
  },
  "language_info": {
   "codemirror_mode": {
    "name": "ipython",
    "version": 3
   },
   "file_extension": ".py",
   "mimetype": "text/x-python",
   "name": "python",
   "nbconvert_exporter": "python",
   "pygments_lexer": "ipython3",
   "version": "3.8.10"
  }
 },
 "nbformat": 4,
 "nbformat_minor": 2
}
